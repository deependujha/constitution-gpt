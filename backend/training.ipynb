{
 "cells": [
  {
   "attachments": {},
   "cell_type": "markdown",
   "metadata": {},
   "source": [
    "## Importing the llm (OpenAI)"
   ]
  },
  {
   "cell_type": "code",
   "execution_count": 1,
   "metadata": {},
   "outputs": [
    {
     "name": "stdout",
     "output_type": "stream",
     "text": [
      "\n",
      "\n",
      "SmartTech Solutions\n"
     ]
    }
   ],
   "source": [
    "import os\n",
    "from dotenv import load_dotenv\n",
    "from langchain.llms import OpenAI\n",
    "\n",
    "load_dotenv()\n",
    "\n",
    "OPENAI_API_KEY=os.getenv(\"OPENAI_API_KEY\")\n",
    "llm = OpenAI(openai_api_key=OPENAI_API_KEY,temperature=0)\n",
    "\n",
    "text = \"What would be a good company name for a company that makes AI tools & products for businesses?\"\n",
    "print(llm(text))"
   ]
  },
  {
   "attachments": {},
   "cell_type": "markdown",
   "metadata": {},
   "source": [
    "## Loading pdf and splitting to chunks"
   ]
  },
  {
   "cell_type": "code",
   "execution_count": 2,
   "metadata": {},
   "outputs": [
    {
     "name": "stdout",
     "output_type": "stream",
     "text": [
      "403\n"
     ]
    }
   ],
   "source": [
    "from langchain.document_loaders import PyPDFLoader\n",
    "\n",
    "loader = PyPDFLoader(\"./IndianConstitution.pdf\")\n",
    "pages = loader.load_and_split()\n",
    "\n",
    "print(len(pages))"
   ]
  },
  {
   "cell_type": "code",
   "execution_count": 3,
   "metadata": {},
   "outputs": [
    {
     "name": "stdout",
     "output_type": "stream",
     "text": [
      "403\n"
     ]
    }
   ],
   "source": [
    "from langchain.text_splitter import CharacterTextSplitter\n",
    "\n",
    "text_splitter = CharacterTextSplitter(        \n",
    "    separator = \"\\n\\n\",\n",
    "    chunk_size = 1000,\n",
    "    chunk_overlap  = 200,\n",
    "    length_function = len,\n",
    ")\n",
    "\n",
    "texts = text_splitter.split_documents(pages)\n",
    "\n",
    "print(len(texts))"
   ]
  },
  {
   "attachments": {},
   "cell_type": "markdown",
   "metadata": {},
   "source": [
    "## Embedding texts and then storing in vector database"
   ]
  },
  {
   "cell_type": "code",
   "execution_count": 4,
   "metadata": {},
   "outputs": [
    {
     "name": "stderr",
     "output_type": "stream",
     "text": [
      "/home/deependu/.local/lib/python3.10/site-packages/pinecone/index.py:4: TqdmWarning: IProgress not found. Please update jupyter and ipywidgets. See https://ipywidgets.readthedocs.io/en/stable/user_install.html\n",
      "  from tqdm.autonotebook import tqdm\n"
     ]
    }
   ],
   "source": [
    "from langchain.embeddings.openai import OpenAIEmbeddings\n",
    "from langchain.vectorstores import Pinecone\n",
    "import pinecone\n",
    "\n",
    "PINECONE_API_KEY=os.getenv('PINECONE_API_KEY')\n",
    "PINECONE_ENV=os.getenv('PINECONE_ENV')\n",
    "\n",
    "embeddings = OpenAIEmbeddings()\n",
    "\n",
    "# initialize pinecone\n",
    "pinecone.init(\n",
    "    api_key=PINECONE_API_KEY,\n",
    "    environment=PINECONE_ENV\n",
    ")\n",
    "\n",
    "index_name = \"kritrim-ai\"\n",
    "\n",
    "docsearch = Pinecone.from_documents(texts, embeddings, index_name=index_name)"
   ]
  },
  {
   "attachments": {},
   "cell_type": "markdown",
   "metadata": {},
   "source": [
    "## Now we will perform similarity search to return the most similar pieces from the documents"
   ]
  },
  {
   "cell_type": "code",
   "execution_count": 5,
   "metadata": {},
   "outputs": [
    {
     "name": "stdout",
     "output_type": "stream",
     "text": [
      "[Document(page_content='THE CONSTITUTION OF  INDIA \\n(Part III.—Fundamental Rights) 14\\nRight against Exploitation \\n23. Prohibition of traffic in human beings and forced labour. —(1) \\nTraffic in human beings and begar and other similar forms of forced labour are \\nprohibited and any contravention of this provision shall be an offence \\npunishable in accordance with law. \\n(2) Nothing in this article shall prevent the State from imposing \\ncompulsory service for public purposes, and in imposing such service the State \\nshall not make any discrimination on grounds only of religion, race, caste or \\nclass or any of them. \\n24. Prohibition of employment of children in factories, etc. —No child \\nbelow the age of fourteen years shall be employed to work in any factory or \\nmine or engaged in any other hazardous employment. \\nRight to Freedom of Religion \\n25. Freedom of conscience and free profession, practice and \\npropagation of religion. —(1) Subject to public order, morality and health and \\nto the other provisions of this Part, all persons are equally entitled to freedom \\nof conscience and the right freely to profess, practice and propagate religion. \\n(2) Nothing in this article shall affect the operation of any existing law or \\nprevent the State from making any law— \\n(a) regulating or restricting any economic, financial, political or \\nother secular activity which may be associated with religious practice; \\n(b) providing for social welfare and reform or the throwing open \\nof Hindu religious institutions of a public character to all classes and \\nsections of Hindus. \\nExplanation I.— The wearing and carrying of kirpans shall be deemed to \\nbe included in the profession of the Sikh religion. \\nExplanation II.— In sub-clause ( b) of clause (2), the reference to Hindus \\nshall be construed as including a reference to persons professing the Sikh, Jaina \\nor Buddhist religion, and the reference to Hindu religious institutions shall be \\nconstrued accordingly. \\n26. Freedom to manage religious affairs .—Subject to public order, \\nmorality and health, every religious denomination or any section thereof shall \\nhave the right— \\n(a) to establish and maintain institutions for religious and charitable \\npurposes;', metadata={'page': 43.0, 'source': './IndianConstitution.pdf'}), Document(page_content='6PART III \\nFUNDAMENTAL RIGHTS \\nGeneral \\n12. Definition .—In this Part, unless the context otherwise requires, “the \\nState” includes the Government and Parliament of India and the Government \\nand the Legislature of each of the States and all local or other authorities within \\nthe territory of India or under the control of the Government of India. \\n13. Laws inconsistent with or in derogation of the fundamental \\nrights.— (1) All laws in force in the territory of India immediately before the \\ncommencement of this Constitution, in so far as they are inconsistent with the \\nprovisions of this Part, shall, to the extent of such inconsistency, be void. \\n(2) The State shall not make any law which takes away or abridges the \\nrights conferred by this Part and any law made in contravention of this clause \\nshall, to the extent of the contravention, be void. \\n(3) In this article, unless the context otherwise requires,— \\n(a) “law” includes any Ordinance, order, bye-law, rule, regulation, \\nnotification, custom or usage having in the territory of India the force of \\nlaw; \\n(b) “laws in force” includes laws passed or made by a Legislature \\nor other competent authority in the territory of India before the \\ncommencement of this Constitution and not previously repealed, \\nnotwithstanding that any such law or any part thereof may not be then in \\noperation either at all or in particular areas. \\n1[(4) Nothing in this article shall apply to any amendment of this \\nConstitution made under article 368.] \\nRight to Equality \\n14. Equality before law. —The State shall not deny to any person \\nequality before the law or the equal protection of the laws within the territory of \\nIndia. \\n15.  Prohibition of discrimination on grounds of religion, race, caste, \\nsex or place of birth. —(1) The State shall not discriminate against any citizen \\non grounds only of religion, race, caste, sex, place of birth or any of them. \\n(2) No citizen shall, on grounds only of religion, race, caste, sex, place of \\nbirth or any of them, be subject to any disability, liability, restriction or \\ncondition with regard to— \\n______________________________________________ \\n1. Ins. by the Constitution  (Twenty-fourth Amendment)  Act, 1971, s. 2 (w.e.f. 5-11-1971).', metadata={'page': 35.0, 'source': './IndianConstitution.pdf'}), Document(page_content='Contents \\n \\n   ARTICLES (ii)\\nPART III \\nFUNDAMENTAL RIGHTS \\nGeneral \\n12. Definition. \\n13. Laws inconsistent with or in derogation of the fundamental \\nrights. \\n Right to Equality \\n14.    Equality before law. \\n15. Prohibition of discrimination on grounds of religion, race, caste, \\nsex or place of birth. \\n16. Equality of opportunity in matters of public employment.  \\n17. Abolition of Untouchability. \\n18. Abolition of titles. \\n Right to Freedom \\n19. Protection of certain rights regarding freedom of speech, etc. \\n20. Protection in respect of conviction for offences. \\n21. Protection of life and personal liberty. \\n21A. Right to education. \\n22. Protection against arrest and detention in certain cases. \\n Right against Exploitation \\n23. Prohibition of traffic in human beings and forced labour. \\n24. Prohibition of employment of children in factories, etc. \\n Right to  Freedom of Religion \\n25. Freedom of conscience and free profession, practice and \\npropagation of religion. \\n26. Freedom to manage religious affairs. \\n27. Freedom as to payment of taxes for promotion of any particular \\nreligion. \\n28. Freedom as to attendance at religious instruction or religious \\nworship in certain educational institutions.', metadata={'page': 3.0, 'source': './IndianConstitution.pdf'}), Document(page_content='THE CONSTITUTION OF  INDIA \\n(Part III.—Fundamental Rights) 9\\n(5) Nothing in this article shall affect the operation of any law which \\nprovides that the incumbent of an office in connection with the affairs of any \\nreligious or denominational institution or any member of the governing body \\nthereof shall be a person professing a particular religion or belonging to a \\nparticular denomination. \\n1[(6) Nothing in this article shall prevent the State from making any \\nprovision for the reservation of appointments or posts in favour of any \\neconomically weaker sections of citizens other than the classes mentioned in \\nclause (4), in addition to the existing reservation and subject to a maximum of \\nten per cent. of the posts in each category.] \\n17. Abolition of Untouchability. —“Untouchability” is abolished and its \\npractice in any form is forbidden. The enforcement of any disability arising out \\nof “Untouchability” shall be an offence punishable in accordance with law. \\n18. Abolition of titles. —(1) No title, not being a military or academic \\ndistinction, shall be conferred by the State. \\n(2) No citizen of India shall accept any title from any foreign State. \\n(3) No person who is not a citizen of India shall, while he holds any \\noffice of profit or trust under the State, accept without the consent of the \\nPresident any title from any foreign State. \\n(4) No person holding any office of profit or trust under the State shall, \\nwithout the consent of the President, accept any present, emolument, or office \\nof any kind from or under any foreign State.  \\nRight to Freedom \\n19. Protection of certain rights regarding freedom of speech, etc. —\\n(1) All citizens shall have the right— \\n(a) to freedom of speech and expression; \\n(b) to assemble peaceably and without arms; \\n(c) to form associations or unions 2[or co-operative societies]; \\n(d) to move freely throughout the territory of India; \\n______________________________________________ \\n1. Ins. by the Constitution (One Hundred and Third Amendment) Act, 2019, s. 3                \\n(w.e.f. 14-1-2019). \\n2. Ins. by the Constitution (Ninety-seventh Amendment) Act, 2011, s. 2 (w.e.f. 8-2-2012).', metadata={'page': 38.0, 'source': './IndianConstitution.pdf'})]\n"
     ]
    }
   ],
   "source": [
    "query = \"What are the laws regarding the right to privacy in India?\"\n",
    "docs = docsearch.similarity_search(query)\n",
    "\n",
    "print(docs)"
   ]
  },
  {
   "attachments": {},
   "cell_type": "markdown",
   "metadata": {},
   "source": [
    "## Now LLM will generate a summary of the most similar pieces"
   ]
  },
  {
   "cell_type": "code",
   "execution_count": 6,
   "metadata": {},
   "outputs": [
    {
     "name": "stdout",
     "output_type": "stream",
     "text": [
      "Use the following pieces of context to answer the question at the end. If you don't know the answer, just say that you don't know, don't try to make up an answer.\n",
      "\n",
      "{context}\n",
      "\n",
      "Question: {question}\n",
      "Helpful Answer:\n"
     ]
    }
   ],
   "source": [
    "from langchain.chains import RetrievalQA\n",
    "\n",
    "qa = RetrievalQA.from_chain_type(\n",
    "        llm=OpenAI(), chain_type=\"stuff\", retriever=docsearch.as_retriever()\n",
    ")\n",
    "\n",
    "print(qa.combine_documents_chain.llm_chain.prompt.template)"
   ]
  },
  {
   "attachments": {},
   "cell_type": "markdown",
   "metadata": {},
   "source": [
    "## Modifying prompt"
   ]
  },
  {
   "cell_type": "code",
   "execution_count": 10,
   "metadata": {},
   "outputs": [],
   "source": [
    "new_prompt = '''Use the following pieces of context to answer the question at the end. If the answer is not present in the context, please answer with \"I am sorry, but I couldn't find the answer\".\n",
    "\n",
    "{context}\n",
    "\n",
    "Question: {question}\n",
    "Helpful Answer:'''\n",
    "\n",
    "qa.combine_documents_chain.llm_chain.prompt.template = new_prompt"
   ]
  },
  {
   "cell_type": "code",
   "execution_count": 11,
   "metadata": {},
   "outputs": [
    {
     "name": "stdout",
     "output_type": "stream",
     "text": [
      " The executive power of the Union and of each State shall extend to the acquisition, holding and disposal of property and the making of contracts for any purpose. However, the said executive power of the Union shall, in so far as such trade or business or such purpose is not one with respect to which Parliament may make laws, be subject in each State to legislation by the State.\n"
     ]
    }
   ],
   "source": [
    "res = qa.run(\"What are the laws regarding buying property in Kashmir?\")\n",
    "print(res)"
   ]
  },
  {
   "cell_type": "code",
   "execution_count": 13,
   "metadata": {},
   "outputs": [
    {
     "name": "stdout",
     "output_type": "stream",
     "text": [
      " According to the Constitution of India, every person who has his domicile in the territory of India and meets any of the following conditions is considered a citizen of India: \n",
      "(a) born in the territory of India; \n",
      "(b) either of whose parents was born in the territory of India; \n",
      "(c) has been ordinarily resident in the territory of India for not less than five years immediately preceding such commencement; \n",
      "(d) migrated to the territory of India from the territory now included in Pakistan and meets the requirements of Article 6; or \n",
      "(e) is of Indian origin and is registered as a citizen of India by the diplomatic or consular representative of India in the country where the person is for the time being residing.\n"
     ]
    }
   ],
   "source": [
    "res = qa.run(\"What are the conditions for being considered an Indian?\")\n",
    "print(res)"
   ]
  }
 ],
 "metadata": {
  "kernelspec": {
   "display_name": "Python 3",
   "language": "python",
   "name": "python3"
  },
  "language_info": {
   "codemirror_mode": {
    "name": "ipython",
    "version": 3
   },
   "file_extension": ".py",
   "mimetype": "text/x-python",
   "name": "python",
   "nbconvert_exporter": "python",
   "pygments_lexer": "ipython3",
   "version": "3.10.6"
  },
  "orig_nbformat": 4
 },
 "nbformat": 4,
 "nbformat_minor": 2
}
